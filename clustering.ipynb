{
 "cells": [
  {
   "cell_type": "code",
   "execution_count": null,
   "metadata": {},
   "outputs": [],
   "source": [
    "import matplotlib.pyplot as plt\n",
    "from sklearn.preprocessing import RobustScaler\n",
    "#from sklearn.preprocessing import StandardScaler\n",
    "import numpy as np\n",
    "# Suppress warnings. Comment this out if you wish to see the warning messages\n",
    "import warnings\n",
    "warnings.filterwarnings('ignore')\n",
    "import pandas as pd\n",
    "from sklearn.cluster import HDBSCAN\n",
    "import astropy.units as u\n",
    "import astropy.coordinates as apycoords\n",
    "import os\n",
    "import glob\n",
    "# from zero_point import zpt\n",
    "from tqdm import tqdm\n",
    "from sklearn.cluster import DBSCAN"
   ]
  },
  {
   "cell_type": "code",
   "execution_count": null,
   "metadata": {},
   "outputs": [],
   "source": [
    "df = pd.DataFrame() # full gaia sample"
   ]
  },
  {
   "cell_type": "code",
   "execution_count": null,
   "metadata": {},
   "outputs": [],
   "source": [
    "clustering_on = ['ra','dec','pmra','pmdec','parallax']\n",
    "\n",
    "data = df[clustering_on]\n",
    "data = RobustScaler().fit_transform(data)"
   ]
  },
  {
   "cell_type": "markdown",
   "metadata": {},
   "source": [
    "# DBSCAN"
   ]
  },
  {
   "cell_type": "code",
   "execution_count": null,
   "metadata": {},
   "outputs": [],
   "source": [
    "db = DBSCAN(eps = 0.4, min_samples = 8, algorithm='ball_tree').fit(data) # n_jobs = 4"
   ]
  },
  {
   "cell_type": "code",
   "execution_count": null,
   "metadata": {},
   "outputs": [],
   "source": [
    "labels = db.labels_ \n",
    "df['label_db'] = labels\n",
    "for i in list(set(labels)):\n",
    "    print('{} {}'.format(i,len(df[(df['label_db'] == i)])))"
   ]
  },
  {
   "cell_type": "code",
   "execution_count": null,
   "metadata": {},
   "outputs": [],
   "source": [
    "unique_labels = set(labels)\n",
    "colors = [plt.cm.Spectral(each) for each in np.linspace(0, 1, len(unique_labels))]\n",
    "\n",
    "plt.figure(figsize=(5,5))\n",
    "for i, j in zip(list(unique_labels), colors):\n",
    "    if not i == -1:\n",
    "        plt.plot(df['pmra'][(df['Clusters'] == i)], df['pmdec'][(df['Clusters'] == i)], \n",
    "         markerfacecolor = tuple(j),marker = 'o', linestyle='None',markersize = 5, alpha = 1)\n",
    "plt.xlabel(\"pmra [mas $yr^{-1}$]\",  fontsize = 14)\n",
    "plt.ylabel(\"pmdec [mas $yr^{-1}$]\",  fontsize = 14)#,rotation=0)\n",
    "plt.tight_layout()\n",
    "plt.grid()\n",
    "plt.show() "
   ]
  },
  {
   "cell_type": "markdown",
   "metadata": {},
   "source": [
    "# HDBSCAN"
   ]
  },
  {
   "cell_type": "code",
   "execution_count": null,
   "metadata": {},
   "outputs": [],
   "source": [
    "hd = HDBSCAN(min_cluster_size=20, min_samples=5, metric='mahalanobis', metric_params={'V': np.cov(data, rowvar=False)}).fit(data)"
   ]
  },
  {
   "cell_type": "code",
   "execution_count": null,
   "metadata": {},
   "outputs": [],
   "source": [
    "labels = hd.labels_ \n",
    "df['label_hb'] = labels\n",
    "for i in list(set(labels)):\n",
    "    print('{} {}'.format(i,len(df[(df['label_hb'] == i)])))"
   ]
  },
  {
   "cell_type": "code",
   "execution_count": null,
   "metadata": {},
   "outputs": [],
   "source": [
    "unique_labels = set(labels)\n",
    "colors = [plt.cm.Spectral(each) for each in np.linspace(0, 1, len(unique_labels))]\n",
    "\n",
    "plt.figure(figsize=(5,5))\n",
    "for i, j in zip(list(unique_labels), colors):\n",
    "    if not i == -1:\n",
    "        plt.plot(df['pmra'][(df['Clusters'] == i)], df['pmdec'][(df['Clusters'] == i)], \n",
    "         markerfacecolor = tuple(j),marker = 'o', linestyle='None',markersize = 5, alpha = 1)\n",
    "plt.xlabel(\"pmra [mas $yr^{-1}$]\",  fontsize = 14)\n",
    "plt.ylabel(\"pmdec [mas $yr^{-1}$]\",  fontsize = 14)#,rotation=0)\n",
    "plt.tight_layout()\n",
    "plt.grid()\n",
    "plt.show() "
   ]
  }
 ],
 "metadata": {
  "language_info": {
   "name": "python"
  }
 },
 "nbformat": 4,
 "nbformat_minor": 2
}
